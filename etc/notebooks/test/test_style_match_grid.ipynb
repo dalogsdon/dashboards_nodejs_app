{
 "cells": [
  {
   "cell_type": "markdown",
   "metadata": {
    "urth": {
     "dashboard": {
      "layout": {
       "col": 0,
       "height": 2,
       "row": 0,
       "width": 4
      }
     }
    }
   },
   "source": [
    "# Behold"
   ]
  },
  {
   "cell_type": "markdown",
   "metadata": {
    "urth": {
     "dashboard": {
      "layout": {
       "col": 4,
       "height": 2,
       "row": 0,
       "width": 4
      }
     }
    }
   },
   "source": [
    "## The majestic"
   ]
  },
  {
   "cell_type": "markdown",
   "metadata": {
    "urth": {
     "dashboard": {
      "layout": {
       "col": 8,
       "height": 2,
       "row": 0,
       "width": 4
      }
     }
    }
   },
   "source": [
    "### Cougar"
   ]
  },
  {
   "cell_type": "markdown",
   "metadata": {
    "urth": {
     "dashboard": {
      "layout": {
       "col": 2,
       "height": 2,
       "row": 2,
       "width": 10
      }
     }
    }
   },
   "source": [
    "The cougar, also known as the mountain lion, puma, panther, catamount, or big yellow cat, is shown here many times."
   ]
  },
  {
   "cell_type": "markdown",
   "metadata": {
    "urth": {
     "dashboard": {
      "layout": {
       "col": 0,
       "height": 2,
       "row": 4,
       "width": 6
      }
     }
    }
   },
   "source": [
    "#### Load image with python code - full width, overflow height"
   ]
  },
  {
   "cell_type": "markdown",
   "metadata": {
    "urth": {
     "dashboard": {
      "layout": {
       "col": 0,
       "height": 2,
       "row": 6,
       "width": 3
      }
     }
    }
   },
   "source": [
    "##### Full Height"
   ]
  },
  {
   "cell_type": "code",
   "execution_count": null,
   "metadata": {
    "collapsed": false,
    "urth": {
     "dashboard": {
      "layout": {
       "col": 3,
       "height": 4,
       "row": 8,
       "width": 3
      }
     }
    }
   },
   "outputs": [],
   "source": [
    "from IPython.display import Image\n",
    "Image(url='http://castlegarsource.com/sites/default/files/imagecache/Original/news_images/thenelsondaily/nov/cougar06.jpg') "
   ]
  },
  {
   "cell_type": "markdown",
   "metadata": {
    "urth": {
     "dashboard": {
      "layout": {
       "col": 3,
       "height": 2,
       "row": 6,
       "width": 3
      }
     }
    }
   },
   "source": [
    "##### Half Height"
   ]
  },
  {
   "cell_type": "code",
   "execution_count": null,
   "metadata": {
    "collapsed": false,
    "urth": {
     "dashboard": {
      "layout": {
       "col": 0,
       "height": 8,
       "row": 8,
       "width": 3
      }
     }
    }
   },
   "outputs": [],
   "source": [
    "from IPython.display import Image\n",
    "Image(url='https://upload.wikimedia.org/wikipedia/commons/thumb/5/5f/Cougar.jpg/640px-Cougar.jpg') "
   ]
  },
  {
   "cell_type": "markdown",
   "metadata": {
    "urth": {
     "dashboard": {
      "layout": {
       "col": 6,
       "height": 2,
       "row": 4,
       "width": 6
      }
     }
    }
   },
   "source": [
    "#### Load image with Markdown code - full width, cutoff height"
   ]
  },
  {
   "cell_type": "markdown",
   "metadata": {
    "urth": {
     "dashboard": {
      "layout": {
       "col": 6,
       "height": 2,
       "row": 6,
       "width": 3
      }
     }
    }
   },
   "source": [
    "##### Full Height"
   ]
  },
  {
   "cell_type": "markdown",
   "metadata": {
    "urth": {
     "dashboard": {
      "layout": {
       "col": 6,
       "height": 8,
       "row": 8,
       "width": 3
      }
     }
    }
   },
   "source": [
    "<img src='http://1.bp.blogspot.com/-nhfnswDpNfE/VlndFo3jHPI/AAAAAAAAko8/FzjajXnUhUY/s640/cougar-cub-sitting-on-a-fallen-tree-widescreen-hd-wallpaper-for-desktop-background-free.jpg'>"
   ]
  },
  {
   "cell_type": "markdown",
   "metadata": {
    "urth": {
     "dashboard": {
      "layout": {
       "col": 9,
       "height": 2,
       "row": 6,
       "width": 3
      }
     }
    }
   },
   "source": [
    "##### Half Height"
   ]
  },
  {
   "cell_type": "markdown",
   "metadata": {
    "urth": {
     "dashboard": {
      "layout": {
       "col": 9,
       "height": 4,
       "row": 8,
       "width": 3
      }
     }
    }
   },
   "source": [
    "<img src=\"http://cincinnatizoo.org/wp-content/uploads/2011/02/cougar1.jpg\">"
   ]
  },
  {
   "cell_type": "markdown",
   "metadata": {
    "urth": {
     "dashboard": {
      "layout": {
       "col": 0,
       "height": 2,
       "row": 16,
       "width": 6
      }
     }
    }
   },
   "source": [
    "# h1 Heading qypgj"
   ]
  },
  {
   "cell_type": "markdown",
   "metadata": {
    "urth": {
     "dashboard": {
      "layout": {
       "col": 0,
       "height": 2,
       "row": 18,
       "width": 6
      }
     }
    }
   },
   "source": [
    "## h2 Heading qypgj"
   ]
  },
  {
   "cell_type": "markdown",
   "metadata": {
    "urth": {
     "dashboard": {
      "layout": {
       "col": 0,
       "height": 2,
       "row": 20,
       "width": 6
      }
     }
    }
   },
   "source": [
    "### h3 Heading qypgj"
   ]
  },
  {
   "cell_type": "markdown",
   "metadata": {
    "urth": {
     "dashboard": {
      "layout": {
       "col": 0,
       "height": 2,
       "row": 22,
       "width": 6
      }
     }
    }
   },
   "source": [
    "#### h4 Heading qypgj"
   ]
  },
  {
   "cell_type": "markdown",
   "metadata": {
    "urth": {
     "dashboard": {
      "layout": {
       "col": 0,
       "height": 2,
       "row": 24,
       "width": 6
      }
     }
    }
   },
   "source": [
    "##### h5 Heading qypgj"
   ]
  },
  {
   "cell_type": "markdown",
   "metadata": {
    "urth": {
     "dashboard": {
      "layout": {
       "col": 6,
       "height": 9,
       "row": 16,
       "width": 6
      }
     }
    }
   },
   "source": [
    "1. One\n",
    "2. Two\n",
    "  * sub item\n",
    "  * sub item 2\n",
    "    * sub sub item\n",
    "    * sub sub item 2\n",
    "      * sub sub sub item\n",
    "      * sub sub sub item 2"
   ]
  }
 ],
 "metadata": {
  "kernelspec": {
   "display_name": "Python 2",
   "language": "python",
   "name": "python2"
  },
  "language_info": {
   "codemirror_mode": {
    "name": "ipython",
    "version": 2
   },
   "file_extension": ".py",
   "mimetype": "text/x-python",
   "name": "python",
   "nbconvert_exporter": "python",
   "pygments_lexer": "ipython2",
   "version": "2.7.11"
  },
  "urth": {
   "dashboard": {
    "cellMargin": 10,
    "defaultCellHeight": 20,
    "layout": "grid",
    "layoutStrategy": "packed",
    "maxColumns": 12
   }
  }
 },
 "nbformat": 4,
 "nbformat_minor": 0
}
