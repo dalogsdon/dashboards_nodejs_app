{
 "cells": [
  {
   "cell_type": "markdown",
   "metadata": {
    "urth": {
     "dashboard": {
      "layout": {}
     }
    }
   },
   "source": [
    "# Behold"
   ]
  },
  {
   "cell_type": "markdown",
   "metadata": {
    "urth": {
     "dashboard": {
      "layout": {}
     }
    }
   },
   "source": [
    "## The majestic"
   ]
  },
  {
   "cell_type": "markdown",
   "metadata": {
    "urth": {
     "dashboard": {
      "layout": {}
     }
    }
   },
   "source": [
    "### Cougar"
   ]
  },
  {
   "cell_type": "markdown",
   "metadata": {
    "urth": {
     "dashboard": {
      "layout": {}
     }
    }
   },
   "source": [
    "The cougar, also known as the mountain lion, puma, panther, catamount, or big yellow cat, is shown here many times."
   ]
  },
  {
   "cell_type": "markdown",
   "metadata": {
    "urth": {
     "dashboard": {
      "layout": {}
     }
    }
   },
   "source": [
    "#### Load image with python code - full width, overflow height"
   ]
  },
  {
   "cell_type": "markdown",
   "metadata": {
    "urth": {
     "dashboard": {
      "layout": {}
     }
    }
   },
   "source": [
    "##### Full Height"
   ]
  },
  {
   "cell_type": "code",
   "execution_count": 1,
   "metadata": {
    "collapsed": false,
    "urth": {
     "dashboard": {
      "layout": {}
     }
    }
   },
   "outputs": [
    {
     "data": {
      "text/html": [
       "<img src=\"http://castlegarsource.com/sites/default/files/imagecache/Original/news_images/thenelsondaily/nov/cougar06.jpg\"/>"
      ],
      "text/plain": [
       "<IPython.core.display.Image object>"
      ]
     },
     "execution_count": 1,
     "metadata": {},
     "output_type": "execute_result"
    }
   ],
   "source": [
    "from IPython.display import Image\n",
    "Image(url='http://castlegarsource.com/sites/default/files/imagecache/Original/news_images/thenelsondaily/nov/cougar06.jpg') "
   ]
  },
  {
   "cell_type": "markdown",
   "metadata": {
    "urth": {
     "dashboard": {
      "layout": {}
     }
    }
   },
   "source": [
    "##### Half Height"
   ]
  },
  {
   "cell_type": "code",
   "execution_count": 2,
   "metadata": {
    "collapsed": false,
    "urth": {
     "dashboard": {
      "layout": {}
     }
    }
   },
   "outputs": [
    {
     "data": {
      "text/html": [
       "<img src=\"https://upload.wikimedia.org/wikipedia/commons/thumb/5/5f/Cougar.jpg/640px-Cougar.jpg\"/>"
      ],
      "text/plain": [
       "<IPython.core.display.Image object>"
      ]
     },
     "execution_count": 2,
     "metadata": {},
     "output_type": "execute_result"
    }
   ],
   "source": [
    "from IPython.display import Image\n",
    "Image(url='https://upload.wikimedia.org/wikipedia/commons/thumb/5/5f/Cougar.jpg/640px-Cougar.jpg') "
   ]
  },
  {
   "cell_type": "markdown",
   "metadata": {
    "urth": {
     "dashboard": {
      "layout": {}
     }
    }
   },
   "source": [
    "#### Load image with Markdown code - full width, cutoff height"
   ]
  },
  {
   "cell_type": "markdown",
   "metadata": {
    "urth": {
     "dashboard": {
      "layout": {}
     }
    }
   },
   "source": [
    "##### Full Height"
   ]
  },
  {
   "cell_type": "markdown",
   "metadata": {
    "urth": {
     "dashboard": {
      "layout": {}
     }
    }
   },
   "source": [
    "<img src='http://1.bp.blogspot.com/-nhfnswDpNfE/VlndFo3jHPI/AAAAAAAAko8/FzjajXnUhUY/s640/cougar-cub-sitting-on-a-fallen-tree-widescreen-hd-wallpaper-for-desktop-background-free.jpg'>"
   ]
  },
  {
   "cell_type": "markdown",
   "metadata": {
    "urth": {
     "dashboard": {
      "layout": {}
     }
    }
   },
   "source": [
    "##### Half Height"
   ]
  },
  {
   "cell_type": "markdown",
   "metadata": {
    "urth": {
     "dashboard": {
      "layout": {}
     }
    }
   },
   "source": [
    "<img src=\"http://cincinnatizoo.org/wp-content/uploads/2011/02/cougar1.jpg\">"
   ]
  },
  {
   "cell_type": "markdown",
   "metadata": {
    "urth": {
     "dashboard": {
      "layout": {}
     }
    }
   },
   "source": [
    "# h1 Heading qypgj"
   ]
  },
  {
   "cell_type": "markdown",
   "metadata": {
    "urth": {
     "dashboard": {
      "layout": {}
     }
    }
   },
   "source": [
    "## h2 Heading qypgj"
   ]
  },
  {
   "cell_type": "markdown",
   "metadata": {
    "urth": {
     "dashboard": {
      "layout": {}
     }
    }
   },
   "source": [
    "### h3 Heading qypgj"
   ]
  },
  {
   "cell_type": "markdown",
   "metadata": {
    "urth": {
     "dashboard": {
      "layout": {}
     }
    }
   },
   "source": [
    "#### h4 Heading qypgj"
   ]
  },
  {
   "cell_type": "markdown",
   "metadata": {
    "urth": {
     "dashboard": {
      "layout": {}
     }
    }
   },
   "source": [
    "##### h5 Heading qypgj"
   ]
  },
  {
   "cell_type": "markdown",
   "metadata": {
    "urth": {
     "dashboard": {
      "layout": {}
     }
    }
   },
   "source": [
    "1. One\n",
    "2. Two\n",
    "  * sub item\n",
    "  * sub item 2\n",
    "    * sub sub item\n",
    "    * sub sub item 2\n",
    "      * sub sub sub item\n",
    "      * sub sub sub item 2"
   ]
  }
 ],
 "metadata": {
  "kernelspec": {
   "display_name": "Python 2",
   "language": "python",
   "name": "python2"
  },
  "language_info": {
   "codemirror_mode": {
    "name": "ipython",
    "version": 2
   },
   "file_extension": ".py",
   "mimetype": "text/x-python",
   "name": "python",
   "nbconvert_exporter": "python",
   "pygments_lexer": "ipython2",
   "version": "2.7.11"
  },
  "urth": {
   "dashboard": {
    "layout": "report"
   }
  }
 },
 "nbformat": 4,
 "nbformat_minor": 0
}
